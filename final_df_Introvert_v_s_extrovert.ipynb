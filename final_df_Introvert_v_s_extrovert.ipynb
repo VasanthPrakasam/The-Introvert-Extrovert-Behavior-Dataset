{
 "cells": [
  {
   "cell_type": "code",
   "execution_count": 20,
   "metadata": {},
   "outputs": [
    {
     "data": {
      "text/html": [
       "<div>\n",
       "<style scoped>\n",
       "    .dataframe tbody tr th:only-of-type {\n",
       "        vertical-align: middle;\n",
       "    }\n",
       "\n",
       "    .dataframe tbody tr th {\n",
       "        vertical-align: top;\n",
       "    }\n",
       "\n",
       "    .dataframe thead th {\n",
       "        text-align: right;\n",
       "    }\n",
       "</style>\n",
       "<table border=\"1\" class=\"dataframe\">\n",
       "  <thead>\n",
       "    <tr style=\"text-align: right;\">\n",
       "      <th></th>\n",
       "      <th>Time_spent_Alone</th>\n",
       "      <th>Stage_fear</th>\n",
       "      <th>Social_event_attendance</th>\n",
       "      <th>Going_outside</th>\n",
       "      <th>Drained_after_socializing</th>\n",
       "      <th>Friends_circle_size</th>\n",
       "      <th>Post_frequency</th>\n",
       "      <th>Personality</th>\n",
       "    </tr>\n",
       "  </thead>\n",
       "  <tbody>\n",
       "    <tr>\n",
       "      <th>0</th>\n",
       "      <td>4.0</td>\n",
       "      <td>0.0</td>\n",
       "      <td>4.0</td>\n",
       "      <td>6.0</td>\n",
       "      <td>0.0</td>\n",
       "      <td>13.0</td>\n",
       "      <td>5.0</td>\n",
       "      <td>0.0</td>\n",
       "    </tr>\n",
       "    <tr>\n",
       "      <th>1</th>\n",
       "      <td>9.0</td>\n",
       "      <td>1.0</td>\n",
       "      <td>0.0</td>\n",
       "      <td>0.0</td>\n",
       "      <td>1.0</td>\n",
       "      <td>0.0</td>\n",
       "      <td>3.0</td>\n",
       "      <td>1.0</td>\n",
       "    </tr>\n",
       "    <tr>\n",
       "      <th>4</th>\n",
       "      <td>3.0</td>\n",
       "      <td>0.0</td>\n",
       "      <td>9.0</td>\n",
       "      <td>4.0</td>\n",
       "      <td>0.0</td>\n",
       "      <td>8.0</td>\n",
       "      <td>5.0</td>\n",
       "      <td>0.0</td>\n",
       "    </tr>\n",
       "    <tr>\n",
       "      <th>5</th>\n",
       "      <td>1.0</td>\n",
       "      <td>0.0</td>\n",
       "      <td>7.0</td>\n",
       "      <td>5.0</td>\n",
       "      <td>0.0</td>\n",
       "      <td>6.0</td>\n",
       "      <td>6.0</td>\n",
       "      <td>0.0</td>\n",
       "    </tr>\n",
       "    <tr>\n",
       "      <th>6</th>\n",
       "      <td>4.0</td>\n",
       "      <td>0.0</td>\n",
       "      <td>9.0</td>\n",
       "      <td>3.0</td>\n",
       "      <td>0.0</td>\n",
       "      <td>7.0</td>\n",
       "      <td>7.0</td>\n",
       "      <td>0.0</td>\n",
       "    </tr>\n",
       "    <tr>\n",
       "      <th>...</th>\n",
       "      <td>...</td>\n",
       "      <td>...</td>\n",
       "      <td>...</td>\n",
       "      <td>...</td>\n",
       "      <td>...</td>\n",
       "      <td>...</td>\n",
       "      <td>...</td>\n",
       "      <td>...</td>\n",
       "    </tr>\n",
       "    <tr>\n",
       "      <th>2895</th>\n",
       "      <td>3.0</td>\n",
       "      <td>0.0</td>\n",
       "      <td>7.0</td>\n",
       "      <td>6.0</td>\n",
       "      <td>0.0</td>\n",
       "      <td>6.0</td>\n",
       "      <td>6.0</td>\n",
       "      <td>0.0</td>\n",
       "    </tr>\n",
       "    <tr>\n",
       "      <th>2896</th>\n",
       "      <td>3.0</td>\n",
       "      <td>0.0</td>\n",
       "      <td>8.0</td>\n",
       "      <td>3.0</td>\n",
       "      <td>0.0</td>\n",
       "      <td>14.0</td>\n",
       "      <td>9.0</td>\n",
       "      <td>0.0</td>\n",
       "    </tr>\n",
       "    <tr>\n",
       "      <th>2897</th>\n",
       "      <td>4.0</td>\n",
       "      <td>1.0</td>\n",
       "      <td>1.0</td>\n",
       "      <td>1.0</td>\n",
       "      <td>1.0</td>\n",
       "      <td>4.0</td>\n",
       "      <td>0.0</td>\n",
       "      <td>1.0</td>\n",
       "    </tr>\n",
       "    <tr>\n",
       "      <th>2898</th>\n",
       "      <td>11.0</td>\n",
       "      <td>1.0</td>\n",
       "      <td>1.0</td>\n",
       "      <td>3.0</td>\n",
       "      <td>1.0</td>\n",
       "      <td>2.0</td>\n",
       "      <td>0.0</td>\n",
       "      <td>1.0</td>\n",
       "    </tr>\n",
       "    <tr>\n",
       "      <th>2899</th>\n",
       "      <td>3.0</td>\n",
       "      <td>0.0</td>\n",
       "      <td>6.0</td>\n",
       "      <td>6.0</td>\n",
       "      <td>0.0</td>\n",
       "      <td>6.0</td>\n",
       "      <td>9.0</td>\n",
       "      <td>0.0</td>\n",
       "    </tr>\n",
       "  </tbody>\n",
       "</table>\n",
       "<p>2498 rows × 8 columns</p>\n",
       "</div>"
      ],
      "text/plain": [
       "      Time_spent_Alone  Stage_fear  Social_event_attendance  Going_outside  \\\n",
       "0                  4.0         0.0                      4.0            6.0   \n",
       "1                  9.0         1.0                      0.0            0.0   \n",
       "4                  3.0         0.0                      9.0            4.0   \n",
       "5                  1.0         0.0                      7.0            5.0   \n",
       "6                  4.0         0.0                      9.0            3.0   \n",
       "...                ...         ...                      ...            ...   \n",
       "2895               3.0         0.0                      7.0            6.0   \n",
       "2896               3.0         0.0                      8.0            3.0   \n",
       "2897               4.0         1.0                      1.0            1.0   \n",
       "2898              11.0         1.0                      1.0            3.0   \n",
       "2899               3.0         0.0                      6.0            6.0   \n",
       "\n",
       "      Drained_after_socializing  Friends_circle_size  Post_frequency  \\\n",
       "0                           0.0                 13.0             5.0   \n",
       "1                           1.0                  0.0             3.0   \n",
       "4                           0.0                  8.0             5.0   \n",
       "5                           0.0                  6.0             6.0   \n",
       "6                           0.0                  7.0             7.0   \n",
       "...                         ...                  ...             ...   \n",
       "2895                        0.0                  6.0             6.0   \n",
       "2896                        0.0                 14.0             9.0   \n",
       "2897                        1.0                  4.0             0.0   \n",
       "2898                        1.0                  2.0             0.0   \n",
       "2899                        0.0                  6.0             9.0   \n",
       "\n",
       "      Personality  \n",
       "0             0.0  \n",
       "1             1.0  \n",
       "4             0.0  \n",
       "5             0.0  \n",
       "6             0.0  \n",
       "...           ...  \n",
       "2895          0.0  \n",
       "2896          0.0  \n",
       "2897          1.0  \n",
       "2898          1.0  \n",
       "2899          0.0  \n",
       "\n",
       "[2498 rows x 8 columns]"
      ]
     },
     "execution_count": 20,
     "metadata": {},
     "output_type": "execute_result"
    }
   ],
   "source": [
    "df"
   ]
  },
  {
   "cell_type": "code",
   "execution_count": 21,
   "metadata": {},
   "outputs": [
    {
     "data": {
      "text/html": [
       "<div>\n",
       "<style scoped>\n",
       "    .dataframe tbody tr th:only-of-type {\n",
       "        vertical-align: middle;\n",
       "    }\n",
       "\n",
       "    .dataframe tbody tr th {\n",
       "        vertical-align: top;\n",
       "    }\n",
       "\n",
       "    .dataframe thead th {\n",
       "        text-align: right;\n",
       "    }\n",
       "</style>\n",
       "<table border=\"1\" class=\"dataframe\">\n",
       "  <thead>\n",
       "    <tr style=\"text-align: right;\">\n",
       "      <th></th>\n",
       "      <th>Time_spent_Alone</th>\n",
       "      <th>Stage_fear</th>\n",
       "      <th>Social_event_attendance</th>\n",
       "      <th>Going_outside</th>\n",
       "      <th>Drained_after_socializing</th>\n",
       "      <th>Friends_circle_size</th>\n",
       "      <th>Post_frequency</th>\n",
       "      <th>Personality</th>\n",
       "    </tr>\n",
       "  </thead>\n",
       "  <tbody>\n",
       "    <tr>\n",
       "      <th>Time_spent_Alone</th>\n",
       "      <td>1.000000</td>\n",
       "      <td>0.835904</td>\n",
       "      <td>-0.717585</td>\n",
       "      <td>-0.733913</td>\n",
       "      <td>0.834174</td>\n",
       "      <td>-0.698716</td>\n",
       "      <td>-0.709264</td>\n",
       "      <td>0.698668</td>\n",
       "    </tr>\n",
       "    <tr>\n",
       "      <th>Stage_fear</th>\n",
       "      <td>0.835904</td>\n",
       "      <td>1.000000</td>\n",
       "      <td>-0.820761</td>\n",
       "      <td>-0.846110</td>\n",
       "      <td>0.949544</td>\n",
       "      <td>-0.798804</td>\n",
       "      <td>-0.811519</td>\n",
       "      <td>0.825953</td>\n",
       "    </tr>\n",
       "    <tr>\n",
       "      <th>Social_event_attendance</th>\n",
       "      <td>-0.717585</td>\n",
       "      <td>-0.820761</td>\n",
       "      <td>1.000000</td>\n",
       "      <td>0.719483</td>\n",
       "      <td>-0.819694</td>\n",
       "      <td>0.706114</td>\n",
       "      <td>0.710030</td>\n",
       "      <td>-0.697706</td>\n",
       "    </tr>\n",
       "    <tr>\n",
       "      <th>Going_outside</th>\n",
       "      <td>-0.733913</td>\n",
       "      <td>-0.846110</td>\n",
       "      <td>0.719483</td>\n",
       "      <td>1.000000</td>\n",
       "      <td>-0.843597</td>\n",
       "      <td>0.707923</td>\n",
       "      <td>0.741060</td>\n",
       "      <td>-0.714027</td>\n",
       "    </tr>\n",
       "    <tr>\n",
       "      <th>Drained_after_socializing</th>\n",
       "      <td>0.834174</td>\n",
       "      <td>0.949544</td>\n",
       "      <td>-0.819694</td>\n",
       "      <td>-0.843597</td>\n",
       "      <td>1.000000</td>\n",
       "      <td>-0.794008</td>\n",
       "      <td>-0.808464</td>\n",
       "      <td>0.824296</td>\n",
       "    </tr>\n",
       "    <tr>\n",
       "      <th>Friends_circle_size</th>\n",
       "      <td>-0.698716</td>\n",
       "      <td>-0.798804</td>\n",
       "      <td>0.706114</td>\n",
       "      <td>0.707923</td>\n",
       "      <td>-0.794008</td>\n",
       "      <td>1.000000</td>\n",
       "      <td>0.672576</td>\n",
       "      <td>-0.662212</td>\n",
       "    </tr>\n",
       "    <tr>\n",
       "      <th>Post_frequency</th>\n",
       "      <td>-0.709264</td>\n",
       "      <td>-0.811519</td>\n",
       "      <td>0.710030</td>\n",
       "      <td>0.741060</td>\n",
       "      <td>-0.808464</td>\n",
       "      <td>0.672576</td>\n",
       "      <td>1.000000</td>\n",
       "      <td>-0.694253</td>\n",
       "    </tr>\n",
       "    <tr>\n",
       "      <th>Personality</th>\n",
       "      <td>0.698668</td>\n",
       "      <td>0.825953</td>\n",
       "      <td>-0.697706</td>\n",
       "      <td>-0.714027</td>\n",
       "      <td>0.824296</td>\n",
       "      <td>-0.662212</td>\n",
       "      <td>-0.694253</td>\n",
       "      <td>1.000000</td>\n",
       "    </tr>\n",
       "  </tbody>\n",
       "</table>\n",
       "</div>"
      ],
      "text/plain": [
       "                           Time_spent_Alone  Stage_fear  \\\n",
       "Time_spent_Alone                   1.000000    0.835904   \n",
       "Stage_fear                         0.835904    1.000000   \n",
       "Social_event_attendance           -0.717585   -0.820761   \n",
       "Going_outside                     -0.733913   -0.846110   \n",
       "Drained_after_socializing          0.834174    0.949544   \n",
       "Friends_circle_size               -0.698716   -0.798804   \n",
       "Post_frequency                    -0.709264   -0.811519   \n",
       "Personality                        0.698668    0.825953   \n",
       "\n",
       "                           Social_event_attendance  Going_outside  \\\n",
       "Time_spent_Alone                         -0.717585      -0.733913   \n",
       "Stage_fear                               -0.820761      -0.846110   \n",
       "Social_event_attendance                   1.000000       0.719483   \n",
       "Going_outside                             0.719483       1.000000   \n",
       "Drained_after_socializing                -0.819694      -0.843597   \n",
       "Friends_circle_size                       0.706114       0.707923   \n",
       "Post_frequency                            0.710030       0.741060   \n",
       "Personality                              -0.697706      -0.714027   \n",
       "\n",
       "                           Drained_after_socializing  Friends_circle_size  \\\n",
       "Time_spent_Alone                            0.834174            -0.698716   \n",
       "Stage_fear                                  0.949544            -0.798804   \n",
       "Social_event_attendance                    -0.819694             0.706114   \n",
       "Going_outside                              -0.843597             0.707923   \n",
       "Drained_after_socializing                   1.000000            -0.794008   \n",
       "Friends_circle_size                        -0.794008             1.000000   \n",
       "Post_frequency                             -0.808464             0.672576   \n",
       "Personality                                 0.824296            -0.662212   \n",
       "\n",
       "                           Post_frequency  Personality  \n",
       "Time_spent_Alone                -0.709264     0.698668  \n",
       "Stage_fear                      -0.811519     0.825953  \n",
       "Social_event_attendance          0.710030    -0.697706  \n",
       "Going_outside                    0.741060    -0.714027  \n",
       "Drained_after_socializing       -0.808464     0.824296  \n",
       "Friends_circle_size              0.672576    -0.662212  \n",
       "Post_frequency                   1.000000    -0.694253  \n",
       "Personality                     -0.694253     1.000000  "
      ]
     },
     "execution_count": 21,
     "metadata": {},
     "output_type": "execute_result"
    }
   ],
   "source": [
    "df.corr()"
   ]
  },
  {
   "cell_type": "markdown",
   "metadata": {},
   "source": [
    "# according to correlation test below columns are having impact to the data"
   ]
  },
  {
   "cell_type": "code",
   "execution_count": 23,
   "metadata": {},
   "outputs": [],
   "source": [
    "continuous = ['Time_spent_Alone','Social_event_attendance','Going_outside','Friends_circle_size','Post_frequency']\n",
    "categories= ['Stage_fear','Drained_after_socializing','Personality']"
   ]
  },
  {
   "cell_type": "code",
   "execution_count": 24,
   "metadata": {},
   "outputs": [],
   "source": [
    "from scipy import stats"
   ]
  },
  {
   "cell_type": "code",
   "execution_count": 25,
   "metadata": {},
   "outputs": [],
   "source": [
    "#continious vs continious\n",
    "def two_sample(d1,d2):\n",
    "  t=0\n",
    "  f=0\n",
    "  for i in  range(31):\n",
    "    sample1=d1.sample(frac=0.03)\n",
    "    sample2=d2.sample(frac=0.03)\n",
    "    t_test,p_value=stats.ttest_ind(sample1,sample2)\n",
    "    if p_value < 0.1:\n",
    "      f=f+1\n",
    "    else:\n",
    "      t=t+1\n",
    "  if t>f:\n",
    "    return True\n",
    "  else:\n",
    "    return False"
   ]
  },
  {
   "cell_type": "code",
   "execution_count": 26,
   "metadata": {},
   "outputs": [
    {
     "data": {
      "text/plain": [
       "True"
      ]
     },
     "execution_count": 26,
     "metadata": {},
     "output_type": "execute_result"
    }
   ],
   "source": [
    "two_sample(df[\"Time_spent_Alone\"],df[\"Post_frequency\"])"
   ]
  },
  {
   "cell_type": "code",
   "execution_count": 27,
   "metadata": {},
   "outputs": [],
   "source": [
    "#cat vs cat\n",
    "def chisquare_cat_vs_cat(d1,d2):\n",
    "    return True if stats.chi2_contingency(pd.crosstab(d1,d2))[1] < 0.1 else False"
   ]
  },
  {
   "cell_type": "code",
   "execution_count": 28,
   "metadata": {},
   "outputs": [
    {
     "data": {
      "text/plain": [
       "True"
      ]
     },
     "execution_count": 28,
     "metadata": {},
     "output_type": "execute_result"
    }
   ],
   "source": [
    "chisquare_cat_vs_cat(df[\"Drained_after_socializing\"],df[\"Personality\"])"
   ]
  },
  {
   "cell_type": "code",
   "execution_count": 29,
   "metadata": {},
   "outputs": [],
   "source": [
    "#continious(d1) vs cat(d2)\n",
    "def annova_test(d1,d2):\n",
    "    group= df[d2].unique()\n",
    "    data = {}\n",
    "    for i in group:\n",
    "        data[i]=df[d1][df[d2]==i]\n",
    "    f_value,p_value=stats.f_oneway(*[i for i in data.values()])\n",
    "    return False if p_value < 0.1 else True"
   ]
  },
  {
   "cell_type": "code",
   "execution_count": 30,
   "metadata": {},
   "outputs": [
    {
     "data": {
      "text/plain": [
       "False"
      ]
     },
     "execution_count": 30,
     "metadata": {},
     "output_type": "execute_result"
    }
   ],
   "source": [
    "annova_test(\"Drained_after_socializing\",\"Post_frequency\")"
   ]
  },
  {
   "cell_type": "code",
   "execution_count": 31,
   "metadata": {},
   "outputs": [],
   "source": [
    "final = {}\n",
    "# Exclude datetime columns from the list of columns to iterate through\n",
    "cols_to_analyze = [col for col in df.columns if col not in ['Drained_after_socializing', 'Personality']]\n",
    "\n",
    "for i in cols_to_analyze:\n",
    "    final[i]={}\n",
    "    for j in cols_to_analyze:\n",
    "        if (i in continuous) and (j in continuous):\n",
    "            result=two_sample(df[i],df[j])\n",
    "        elif (i in continuous) and (j in categories):\n",
    "            result=annova_test(i,j)\n",
    "        elif (i in categories) and (j in continuous):\n",
    "            result=annova_test(j,i)\n",
    "        elif (i in categories) and (j in categories):\n",
    "            result=chisquare_cat_vs_cat(df[i],df[j])\n",
    "        else:\n",
    "            # If the columns are of mixed types not covered by the above or one is a date, skip the test\n",
    "            continue\n",
    "\n",
    "        if result:\n",
    "            final[i][j]=1\n",
    "        else:\n",
    "            final[i][j]=0"
   ]
  },
  {
   "cell_type": "code",
   "execution_count": 32,
   "metadata": {},
   "outputs": [],
   "source": [
    "import pprint"
   ]
  },
  {
   "cell_type": "code",
   "execution_count": 33,
   "metadata": {},
   "outputs": [
    {
     "name": "stdout",
     "output_type": "stream",
     "text": [
      "{'Friends_circle_size': {'Friends_circle_size': 1,\n",
      "                         'Going_outside': 0,\n",
      "                         'Post_frequency': 0,\n",
      "                         'Social_event_attendance': 0,\n",
      "                         'Stage_fear': 0,\n",
      "                         'Time_spent_Alone': 0},\n",
      " 'Going_outside': {'Friends_circle_size': 0,\n",
      "                   'Going_outside': 1,\n",
      "                   'Post_frequency': 1,\n",
      "                   'Social_event_attendance': 0,\n",
      "                   'Stage_fear': 0,\n",
      "                   'Time_spent_Alone': 0},\n",
      " 'Post_frequency': {'Friends_circle_size': 0,\n",
      "                    'Going_outside': 0,\n",
      "                    'Post_frequency': 1,\n",
      "                    'Social_event_attendance': 1,\n",
      "                    'Stage_fear': 0,\n",
      "                    'Time_spent_Alone': 1},\n",
      " 'Social_event_attendance': {'Friends_circle_size': 0,\n",
      "                             'Going_outside': 0,\n",
      "                             'Post_frequency': 1,\n",
      "                             'Social_event_attendance': 1,\n",
      "                             'Stage_fear': 0,\n",
      "                             'Time_spent_Alone': 1},\n",
      " 'Stage_fear': {'Friends_circle_size': 0,\n",
      "                'Going_outside': 0,\n",
      "                'Post_frequency': 0,\n",
      "                'Social_event_attendance': 0,\n",
      "                'Stage_fear': 1,\n",
      "                'Time_spent_Alone': 0},\n",
      " 'Time_spent_Alone': {'Friends_circle_size': 0,\n",
      "                      'Going_outside': 0,\n",
      "                      'Post_frequency': 1,\n",
      "                      'Social_event_attendance': 1,\n",
      "                      'Stage_fear': 0,\n",
      "                      'Time_spent_Alone': 1}}\n"
     ]
    }
   ],
   "source": [
    "pprint.pprint(final)"
   ]
  },
  {
   "cell_type": "code",
   "execution_count": 34,
   "metadata": {},
   "outputs": [
    {
     "data": {
      "text/html": [
       "<div>\n",
       "<style scoped>\n",
       "    .dataframe tbody tr th:only-of-type {\n",
       "        vertical-align: middle;\n",
       "    }\n",
       "\n",
       "    .dataframe tbody tr th {\n",
       "        vertical-align: top;\n",
       "    }\n",
       "\n",
       "    .dataframe thead th {\n",
       "        text-align: right;\n",
       "    }\n",
       "</style>\n",
       "<table border=\"1\" class=\"dataframe\">\n",
       "  <thead>\n",
       "    <tr style=\"text-align: right;\">\n",
       "      <th></th>\n",
       "      <th>Time_spent_Alone</th>\n",
       "      <th>Stage_fear</th>\n",
       "      <th>Social_event_attendance</th>\n",
       "      <th>Going_outside</th>\n",
       "      <th>Friends_circle_size</th>\n",
       "      <th>Post_frequency</th>\n",
       "    </tr>\n",
       "  </thead>\n",
       "  <tbody>\n",
       "    <tr>\n",
       "      <th>Time_spent_Alone</th>\n",
       "      <td>1</td>\n",
       "      <td>0</td>\n",
       "      <td>1</td>\n",
       "      <td>0</td>\n",
       "      <td>0</td>\n",
       "      <td>1</td>\n",
       "    </tr>\n",
       "    <tr>\n",
       "      <th>Stage_fear</th>\n",
       "      <td>0</td>\n",
       "      <td>1</td>\n",
       "      <td>0</td>\n",
       "      <td>0</td>\n",
       "      <td>0</td>\n",
       "      <td>0</td>\n",
       "    </tr>\n",
       "    <tr>\n",
       "      <th>Social_event_attendance</th>\n",
       "      <td>1</td>\n",
       "      <td>0</td>\n",
       "      <td>1</td>\n",
       "      <td>0</td>\n",
       "      <td>0</td>\n",
       "      <td>1</td>\n",
       "    </tr>\n",
       "    <tr>\n",
       "      <th>Going_outside</th>\n",
       "      <td>0</td>\n",
       "      <td>0</td>\n",
       "      <td>0</td>\n",
       "      <td>1</td>\n",
       "      <td>0</td>\n",
       "      <td>0</td>\n",
       "    </tr>\n",
       "    <tr>\n",
       "      <th>Friends_circle_size</th>\n",
       "      <td>0</td>\n",
       "      <td>0</td>\n",
       "      <td>0</td>\n",
       "      <td>0</td>\n",
       "      <td>1</td>\n",
       "      <td>0</td>\n",
       "    </tr>\n",
       "    <tr>\n",
       "      <th>Post_frequency</th>\n",
       "      <td>1</td>\n",
       "      <td>0</td>\n",
       "      <td>1</td>\n",
       "      <td>1</td>\n",
       "      <td>0</td>\n",
       "      <td>1</td>\n",
       "    </tr>\n",
       "  </tbody>\n",
       "</table>\n",
       "</div>"
      ],
      "text/plain": [
       "                         Time_spent_Alone  Stage_fear  \\\n",
       "Time_spent_Alone                        1           0   \n",
       "Stage_fear                              0           1   \n",
       "Social_event_attendance                 1           0   \n",
       "Going_outside                           0           0   \n",
       "Friends_circle_size                     0           0   \n",
       "Post_frequency                          1           0   \n",
       "\n",
       "                         Social_event_attendance  Going_outside  \\\n",
       "Time_spent_Alone                               1              0   \n",
       "Stage_fear                                     0              0   \n",
       "Social_event_attendance                        1              0   \n",
       "Going_outside                                  0              1   \n",
       "Friends_circle_size                            0              0   \n",
       "Post_frequency                                 1              1   \n",
       "\n",
       "                         Friends_circle_size  Post_frequency  \n",
       "Time_spent_Alone                           0               1  \n",
       "Stage_fear                                 0               0  \n",
       "Social_event_attendance                    0               1  \n",
       "Going_outside                              0               0  \n",
       "Friends_circle_size                        1               0  \n",
       "Post_frequency                             0               1  "
      ]
     },
     "execution_count": 34,
     "metadata": {},
     "output_type": "execute_result"
    }
   ],
   "source": [
    "final_df = pd.DataFrame(final)\n",
    "final_df"
   ]
  },
  {
   "cell_type": "code",
   "execution_count": 35,
   "metadata": {},
   "outputs": [
    {
     "name": "stdout",
     "output_type": "stream",
     "text": [
      "final_df has been saved to Corr&Hypothesis.csv\n"
     ]
    }
   ],
   "source": [
    "# prompt: I want to create this final_df as csv file\n",
    "\n",
    "final_df.to_csv('Corr&Hypothesis.csv')\n",
    "print(\"final_df has been saved to Corr&Hypothesis.csv\")"
   ]
  },
  {
   "cell_type": "code",
   "execution_count": 36,
   "metadata": {},
   "outputs": [],
   "source": [
    "import seaborn as sns"
   ]
  },
  {
   "cell_type": "code",
   "execution_count": 37,
   "metadata": {},
   "outputs": [
    {
     "data": {
      "text/plain": [
       "<Axes: >"
      ]
     },
     "execution_count": 37,
     "metadata": {},
     "output_type": "execute_result"
    },
    {
     "data": {
      "image/png": "[encoded data removed]",
      "text/plain": [
       "<Figure size 640x480 with 2 Axes>"
      ]
     },
     "metadata": {},
     "output_type": "display_data"
    }
   ],
   "source": [
    "sns.heatmap(final_df,annot=True,cmap=\"coolwarm\")"
   ]
  },
  {
   "cell_type": "code",
   "execution_count": null,
   "metadata": {},
   "outputs": [],
   "source": []
  }
 ],
 "metadata": {
  "colab": {
   "provenance": []
  },
  "kernelspec": {
   "display_name": "Python 3 (ipykernel)",
   "language": "python",
   "name": "python3"
  },
  "language_info": {
   "codemirror_mode": {
    "name": "ipython",
    "version": 3
   },
   "file_extension": ".py",
   "mimetype": "text/x-python",
   "name": "python",
   "nbconvert_exporter": "python",
   "pygments_lexer": "ipython3",
   "version": "3.13.5"
  }
 },
 "nbformat": 4,
 "nbformat_minor": 4
}
